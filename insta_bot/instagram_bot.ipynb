{
 "cells": [
  {
   "cell_type": "code",
   "execution_count": 204,
   "metadata": {
    "collapsed": true,
    "ExecuteTime": {
     "start_time": "2023-05-21T09:26:29.647642Z",
     "end_time": "2023-05-21T09:26:29.658728Z"
    }
   },
   "outputs": [],
   "source": [
    "from selenium import webdriver\n",
    "from selenium.webdriver.chrome.service import Service\n",
    "from selenium.webdriver.common.by import By\n",
    "from selenium.webdriver.common.keys import Keys\n",
    "from time import sleep"
   ]
  },
  {
   "cell_type": "code",
   "execution_count": 205,
   "outputs": [],
   "source": [
    "service = Service('chromedriver_mac_arm64')\n",
    "driver = webdriver.Chrome(service=service)\n",
    "\n",
    "driver.get('https://instagram.com')"
   ],
   "metadata": {
    "collapsed": false,
    "ExecuteTime": {
     "start_time": "2023-05-21T09:26:29.648952Z",
     "end_time": "2023-05-21T09:26:36.402632Z"
    }
   }
  },
  {
   "cell_type": "code",
   "execution_count": 206,
   "outputs": [],
   "source": [
    "sleep(3)\n",
    "inputs = driver.find_elements(By.TAG_NAME, \"input\")\n",
    "inputs[-2].send_keys(\"naad.daan__\")\n",
    "inputs[-1].send_keys(\"wubbalubbadubdub\")\n",
    "sleep(2)\n",
    "buttons = driver.find_elements(By.XPATH, \"//button[@type='submit']\")\n",
    "buttons[0].click()"
   ],
   "metadata": {
    "collapsed": false,
    "ExecuteTime": {
     "start_time": "2023-05-21T09:26:36.402379Z",
     "end_time": "2023-05-21T09:26:41.673307Z"
    }
   }
  },
  {
   "cell_type": "code",
   "execution_count": 207,
   "outputs": [],
   "source": [
    "sleep(3)\n",
    "driver.find_elements(By.XPATH, \"//div[@role='button']\")[-1].click()"
   ],
   "metadata": {
    "collapsed": false,
    "ExecuteTime": {
     "start_time": "2023-05-21T09:26:41.674307Z",
     "end_time": "2023-05-21T09:26:46.442736Z"
    }
   }
  },
  {
   "cell_type": "code",
   "execution_count": 208,
   "outputs": [],
   "source": [
    "sleep(2)\n",
    "driver.find_element(By.XPATH, \"//button[@class='_a9-- _a9_1']\").click()"
   ],
   "metadata": {
    "collapsed": false,
    "ExecuteTime": {
     "start_time": "2023-05-21T09:26:46.444688Z",
     "end_time": "2023-05-21T09:26:48.503047Z"
    }
   }
  },
  {
   "cell_type": "code",
   "execution_count": 209,
   "outputs": [],
   "source": [
    "driver.find_elements(By.XPATH, \"//a[@role='link']\")[5].click()"
   ],
   "metadata": {
    "collapsed": false,
    "ExecuteTime": {
     "start_time": "2023-05-21T09:26:48.506739Z",
     "end_time": "2023-05-21T09:26:48.566416Z"
    }
   }
  },
  {
   "cell_type": "code",
   "execution_count": 211,
   "outputs": [
    {
     "ename": "KeyboardInterrupt",
     "evalue": "",
     "output_type": "error",
     "traceback": [
      "\u001B[0;31m---------------------------------------------------------------------------\u001B[0m",
      "\u001B[0;31mKeyboardInterrupt\u001B[0m                         Traceback (most recent call last)",
      "Cell \u001B[0;32mIn[211], line 25\u001B[0m\n\u001B[1;32m     22\u001B[0m message_box \u001B[38;5;241m=\u001B[39m driver\u001B[38;5;241m.\u001B[39mfind_element(By\u001B[38;5;241m.\u001B[39mXPATH, \u001B[38;5;124m\"\u001B[39m\u001B[38;5;124m//div[@role=\u001B[39m\u001B[38;5;124m'\u001B[39m\u001B[38;5;124mtextbox\u001B[39m\u001B[38;5;124m'\u001B[39m\u001B[38;5;124m]\u001B[39m\u001B[38;5;124m\"\u001B[39m)\n\u001B[1;32m     24\u001B[0m \u001B[38;5;28;01mwhile\u001B[39;00m \u001B[38;5;28;01mTrue\u001B[39;00m:\n\u001B[0;32m---> 25\u001B[0m     sleep(\u001B[38;5;241m2\u001B[39m)\n\u001B[1;32m     26\u001B[0m     message_box\u001B[38;5;241m.\u001B[39msend_keys(message)\n\u001B[1;32m     27\u001B[0m     message_box\u001B[38;5;241m.\u001B[39msend_keys(Keys\u001B[38;5;241m.\u001B[39mENTER)\n",
      "\u001B[0;31mKeyboardInterrupt\u001B[0m: "
     ]
    }
   ],
   "source": [
    "sleep(5)\n",
    "chats = driver.find_elements(By.XPATH, \"//div[@role='button']\")\n",
    "\n",
    "chats_list = []\n",
    "for chat in chats:\n",
    "    chats_list.append(chat.text.split('\\n')[0])\n",
    "\n",
    "sleep(2)\n",
    "chats_list.pop(0)\n",
    "chats_list.pop(0)\n",
    "\n",
    "# send_user = input(\"Enter Name of User\")\n",
    "send_user = 'Priyansh Goel'\n",
    "\n",
    "send_index = chats_list.index(send_user) + 2\n",
    "\n",
    "message = \"Yo I'm Naad's Chatbot and I am going to do this until you reply\"\n",
    "\n",
    "sleep(1)\n",
    "chats[send_index].click()\n",
    "\n",
    "sleep(2)\n",
    "message_box = driver.find_element(By.XPATH, \"//div[@role='textbox']\")\n",
    "\n",
    "message_box.send_keys(message)\n",
    "message_box.send_keys(Keys.ENTER)\n",
    "\n",
    "while True:\n",
    "    sleep(2)\n",
    "    message_box.send_keys(message)\n",
    "    message_box.send_keys(Keys.ENTER)"
   ],
   "metadata": {
    "collapsed": false,
    "ExecuteTime": {
     "start_time": "2023-05-21T09:26:48.567074Z",
     "end_time": "2023-05-21T09:27:00.998783Z"
    }
   }
  },
  {
   "cell_type": "code",
   "execution_count": 210,
   "outputs": [],
   "source": [],
   "metadata": {
    "collapsed": false,
    "ExecuteTime": {
     "start_time": "2023-05-21T09:27:00.998627Z",
     "end_time": "2023-05-21T09:27:00.999983Z"
    }
   }
  }
 ],
 "metadata": {
  "kernelspec": {
   "display_name": "Python 3",
   "language": "python",
   "name": "python3"
  },
  "language_info": {
   "codemirror_mode": {
    "name": "ipython",
    "version": 2
   },
   "file_extension": ".py",
   "mimetype": "text/x-python",
   "name": "python",
   "nbconvert_exporter": "python",
   "pygments_lexer": "ipython2",
   "version": "2.7.6"
  }
 },
 "nbformat": 4,
 "nbformat_minor": 0
}
