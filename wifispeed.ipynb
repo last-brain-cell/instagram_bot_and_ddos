{
 "cells": [
  {
   "cell_type": "code",
   "execution_count": 4,
   "metadata": {
    "collapsed": true,
    "ExecuteTime": {
     "start_time": "2023-05-21T07:18:57.585805Z",
     "end_time": "2023-05-21T07:18:57.590257Z"
    }
   },
   "outputs": [],
   "source": [
    "from selenium import webdriver\n",
    "from selenium.webdriver.chrome.options import Options\n",
    "from selenium.webdriver.chrome.service import Service\n",
    "from selenium.webdriver.common.by import By\n",
    "from selenium.webdriver.support import expected_conditions as EC\n",
    "from selenium.webdriver.support.ui import WebDriverWait\n",
    "from selenium.webdriver.common.keys import Keys\n",
    "from time import sleep"
   ]
  },
  {
   "cell_type": "code",
   "execution_count": 5,
   "outputs": [],
   "source": [
    "chrome_driver_path = \"chromedriver_mac_arm64\"\n",
    "service = Service(chrome_driver_path)\n",
    "driver = webdriver.Chrome(service=service)\n",
    "driver.get(\"https://fast.com\")"
   ],
   "metadata": {
    "collapsed": false,
    "ExecuteTime": {
     "start_time": "2023-05-21T07:18:57.590749Z",
     "end_time": "2023-05-21T07:18:59.828548Z"
    }
   }
  },
  {
   "cell_type": "code",
   "execution_count": 8,
   "outputs": [
    {
     "ename": "NoSuchElementException",
     "evalue": "Message: no such element: Unable to locate element: {\"method\":\"xpath\",\"selector\":\"div[contains(@class, 'speed-results-container succeeded')]\"}\n  (Session info: chrome=113.0.5672.63)\nStacktrace:\n0   chromedriver                        0x000000010254b8ac chromedriver + 4257964\n1   chromedriver                        0x0000000102543f40 chromedriver + 4226880\n2   chromedriver                        0x00000001021809d4 chromedriver + 281044\n3   chromedriver                        0x00000001021bba34 chromedriver + 522804\n4   chromedriver                        0x00000001021f27e4 chromedriver + 747492\n5   chromedriver                        0x00000001021af98c chromedriver + 473484\n6   chromedriver                        0x00000001021b098c chromedriver + 477580\n7   chromedriver                        0x000000010250a900 chromedriver + 3991808\n8   chromedriver                        0x000000010250e354 chromedriver + 4006740\n9   chromedriver                        0x000000010250e940 chromedriver + 4008256\n10  chromedriver                        0x000000010251433c chromedriver + 4031292\n11  chromedriver                        0x000000010250ef34 chromedriver + 4009780\n12  chromedriver                        0x00000001024e7490 chromedriver + 3847312\n13  chromedriver                        0x000000010252c9f4 chromedriver + 4131316\n14  chromedriver                        0x000000010252cb4c chromedriver + 4131660\n15  chromedriver                        0x000000010253d230 chromedriver + 4198960\n16  libsystem_pthread.dylib             0x00000001a5dfa06c _pthread_start + 148\n17  libsystem_pthread.dylib             0x00000001a5df4e2c thread_start + 8\n",
     "output_type": "error",
     "traceback": [
      "\u001B[0;31m---------------------------------------------------------------------------\u001B[0m",
      "\u001B[0;31mNoSuchElementException\u001B[0m                    Traceback (most recent call last)",
      "Cell \u001B[0;32mIn[8], line 3\u001B[0m\n\u001B[1;32m      1\u001B[0m \u001B[38;5;66;03m# wait = WebDriverWait(driver, 60)  # Wait for a maximum of 60 seconds\u001B[39;00m\n\u001B[1;32m      2\u001B[0m \u001B[38;5;66;03m# speed_container = wait.until(EC.visibility_of_element_located((By.XPATH, \"div[contains(@class, 'speed-results-container succeeded')]\")))\u001B[39;00m\n\u001B[0;32m----> 3\u001B[0m \u001B[43mdriver\u001B[49m\u001B[38;5;241;43m.\u001B[39;49m\u001B[43mfind_element\u001B[49m\u001B[43m(\u001B[49m\u001B[43mBy\u001B[49m\u001B[38;5;241;43m.\u001B[39;49m\u001B[43mXPATH\u001B[49m\u001B[43m,\u001B[49m\u001B[43m \u001B[49m\u001B[38;5;124;43m\"\u001B[39;49m\u001B[38;5;124;43mdiv[contains(@class, \u001B[39;49m\u001B[38;5;124;43m'\u001B[39;49m\u001B[38;5;124;43mspeed-results-container succeeded\u001B[39;49m\u001B[38;5;124;43m'\u001B[39;49m\u001B[38;5;124;43m)]\u001B[39;49m\u001B[38;5;124;43m\"\u001B[39;49m\u001B[43m)\u001B[49m\n",
      "File \u001B[0;32m~/PycharmProjects/fastApiProject1/venv/lib/python3.11/site-packages/selenium/webdriver/remote/webdriver.py:831\u001B[0m, in \u001B[0;36mWebDriver.find_element\u001B[0;34m(self, by, value)\u001B[0m\n\u001B[1;32m    828\u001B[0m     by \u001B[38;5;241m=\u001B[39m By\u001B[38;5;241m.\u001B[39mCSS_SELECTOR\n\u001B[1;32m    829\u001B[0m     value \u001B[38;5;241m=\u001B[39m \u001B[38;5;124mf\u001B[39m\u001B[38;5;124m'\u001B[39m\u001B[38;5;124m[name=\u001B[39m\u001B[38;5;124m\"\u001B[39m\u001B[38;5;132;01m{\u001B[39;00mvalue\u001B[38;5;132;01m}\u001B[39;00m\u001B[38;5;124m\"\u001B[39m\u001B[38;5;124m]\u001B[39m\u001B[38;5;124m'\u001B[39m\n\u001B[0;32m--> 831\u001B[0m \u001B[38;5;28;01mreturn\u001B[39;00m \u001B[38;5;28;43mself\u001B[39;49m\u001B[38;5;241;43m.\u001B[39;49m\u001B[43mexecute\u001B[49m\u001B[43m(\u001B[49m\u001B[43mCommand\u001B[49m\u001B[38;5;241;43m.\u001B[39;49m\u001B[43mFIND_ELEMENT\u001B[49m\u001B[43m,\u001B[49m\u001B[43m \u001B[49m\u001B[43m{\u001B[49m\u001B[38;5;124;43m\"\u001B[39;49m\u001B[38;5;124;43musing\u001B[39;49m\u001B[38;5;124;43m\"\u001B[39;49m\u001B[43m:\u001B[49m\u001B[43m \u001B[49m\u001B[43mby\u001B[49m\u001B[43m,\u001B[49m\u001B[43m \u001B[49m\u001B[38;5;124;43m\"\u001B[39;49m\u001B[38;5;124;43mvalue\u001B[39;49m\u001B[38;5;124;43m\"\u001B[39;49m\u001B[43m:\u001B[49m\u001B[43m \u001B[49m\u001B[43mvalue\u001B[49m\u001B[43m}\u001B[49m\u001B[43m)\u001B[49m[\u001B[38;5;124m\"\u001B[39m\u001B[38;5;124mvalue\u001B[39m\u001B[38;5;124m\"\u001B[39m]\n",
      "File \u001B[0;32m~/PycharmProjects/fastApiProject1/venv/lib/python3.11/site-packages/selenium/webdriver/remote/webdriver.py:440\u001B[0m, in \u001B[0;36mWebDriver.execute\u001B[0;34m(self, driver_command, params)\u001B[0m\n\u001B[1;32m    438\u001B[0m response \u001B[38;5;241m=\u001B[39m \u001B[38;5;28mself\u001B[39m\u001B[38;5;241m.\u001B[39mcommand_executor\u001B[38;5;241m.\u001B[39mexecute(driver_command, params)\n\u001B[1;32m    439\u001B[0m \u001B[38;5;28;01mif\u001B[39;00m response:\n\u001B[0;32m--> 440\u001B[0m     \u001B[38;5;28;43mself\u001B[39;49m\u001B[38;5;241;43m.\u001B[39;49m\u001B[43merror_handler\u001B[49m\u001B[38;5;241;43m.\u001B[39;49m\u001B[43mcheck_response\u001B[49m\u001B[43m(\u001B[49m\u001B[43mresponse\u001B[49m\u001B[43m)\u001B[49m\n\u001B[1;32m    441\u001B[0m     response[\u001B[38;5;124m\"\u001B[39m\u001B[38;5;124mvalue\u001B[39m\u001B[38;5;124m\"\u001B[39m] \u001B[38;5;241m=\u001B[39m \u001B[38;5;28mself\u001B[39m\u001B[38;5;241m.\u001B[39m_unwrap_value(response\u001B[38;5;241m.\u001B[39mget(\u001B[38;5;124m\"\u001B[39m\u001B[38;5;124mvalue\u001B[39m\u001B[38;5;124m\"\u001B[39m, \u001B[38;5;28;01mNone\u001B[39;00m))\n\u001B[1;32m    442\u001B[0m     \u001B[38;5;28;01mreturn\u001B[39;00m response\n",
      "File \u001B[0;32m~/PycharmProjects/fastApiProject1/venv/lib/python3.11/site-packages/selenium/webdriver/remote/errorhandler.py:245\u001B[0m, in \u001B[0;36mErrorHandler.check_response\u001B[0;34m(self, response)\u001B[0m\n\u001B[1;32m    243\u001B[0m         alert_text \u001B[38;5;241m=\u001B[39m value[\u001B[38;5;124m\"\u001B[39m\u001B[38;5;124malert\u001B[39m\u001B[38;5;124m\"\u001B[39m]\u001B[38;5;241m.\u001B[39mget(\u001B[38;5;124m\"\u001B[39m\u001B[38;5;124mtext\u001B[39m\u001B[38;5;124m\"\u001B[39m)\n\u001B[1;32m    244\u001B[0m     \u001B[38;5;28;01mraise\u001B[39;00m exception_class(message, screen, stacktrace, alert_text)  \u001B[38;5;66;03m# type: ignore[call-arg]  # mypy is not smart enough here\u001B[39;00m\n\u001B[0;32m--> 245\u001B[0m \u001B[38;5;28;01mraise\u001B[39;00m exception_class(message, screen, stacktrace)\n",
      "\u001B[0;31mNoSuchElementException\u001B[0m: Message: no such element: Unable to locate element: {\"method\":\"xpath\",\"selector\":\"div[contains(@class, 'speed-results-container succeeded')]\"}\n  (Session info: chrome=113.0.5672.63)\nStacktrace:\n0   chromedriver                        0x000000010254b8ac chromedriver + 4257964\n1   chromedriver                        0x0000000102543f40 chromedriver + 4226880\n2   chromedriver                        0x00000001021809d4 chromedriver + 281044\n3   chromedriver                        0x00000001021bba34 chromedriver + 522804\n4   chromedriver                        0x00000001021f27e4 chromedriver + 747492\n5   chromedriver                        0x00000001021af98c chromedriver + 473484\n6   chromedriver                        0x00000001021b098c chromedriver + 477580\n7   chromedriver                        0x000000010250a900 chromedriver + 3991808\n8   chromedriver                        0x000000010250e354 chromedriver + 4006740\n9   chromedriver                        0x000000010250e940 chromedriver + 4008256\n10  chromedriver                        0x000000010251433c chromedriver + 4031292\n11  chromedriver                        0x000000010250ef34 chromedriver + 4009780\n12  chromedriver                        0x00000001024e7490 chromedriver + 3847312\n13  chromedriver                        0x000000010252c9f4 chromedriver + 4131316\n14  chromedriver                        0x000000010252cb4c chromedriver + 4131660\n15  chromedriver                        0x000000010253d230 chromedriver + 4198960\n16  libsystem_pthread.dylib             0x00000001a5dfa06c _pthread_start + 148\n17  libsystem_pthread.dylib             0x00000001a5df4e2c thread_start + 8\n"
     ]
    }
   ],
   "source": [
    "# wait = WebDriverWait(driver, 60)  # Wait for a maximum of 60 seconds\n",
    "# speed_container = wait.until(EC.visibility_of_element_located((By.XPATH, \"div[contains(@class, 'speed-results-container succeeded')]\")))\n",
    "driver.find_element(By.XPATH, \"div[contains(@class, 'speed-results-container succeeded')]\")"
   ],
   "metadata": {
    "collapsed": false
   }
  },
  {
   "cell_type": "code",
   "execution_count": null,
   "outputs": [],
   "source": [],
   "metadata": {
    "collapsed": false
   }
  }
 ],
 "metadata": {
  "kernelspec": {
   "display_name": "Python 3",
   "language": "python",
   "name": "python3"
  },
  "language_info": {
   "codemirror_mode": {
    "name": "ipython",
    "version": 2
   },
   "file_extension": ".py",
   "mimetype": "text/x-python",
   "name": "python",
   "nbconvert_exporter": "python",
   "pygments_lexer": "ipython2",
   "version": "2.7.6"
  }
 },
 "nbformat": 4,
 "nbformat_minor": 0
}
