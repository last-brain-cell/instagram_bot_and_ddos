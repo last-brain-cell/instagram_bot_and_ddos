{
 "cells": [
  {
   "cell_type": "code",
   "execution_count": 86,
   "outputs": [],
   "source": [
    "from selenium import webdriver\n",
    "from selenium.webdriver.chrome.service import Service\n",
    "from selenium.webdriver.common.by import By\n",
    "from time import sleep\n",
    "import json"
   ],
   "metadata": {
    "collapsed": false,
    "ExecuteTime": {
     "start_time": "2023-05-21T07:35:21.508945Z",
     "end_time": "2023-05-21T07:35:21.511180Z"
    }
   }
  },
  {
   "cell_type": "code",
   "execution_count": 45,
   "outputs": [],
   "source": [
    "service = Service('chromedriver_mac_arm64')\n",
    "driver = webdriver.Chrome(service=service)\n",
    "\n",
    "driver.get('https://twitter.com/i/flow/login')"
   ],
   "metadata": {
    "collapsed": false,
    "ExecuteTime": {
     "start_time": "2023-05-21T06:57:30.043994Z",
     "end_time": "2023-05-21T06:57:36.273516Z"
    }
   }
  },
  {
   "cell_type": "code",
   "execution_count": 46,
   "outputs": [],
   "source": [
    "sleep(1)\n",
    "username = driver.find_element(By.TAG_NAME, 'input')\n",
    "username.send_keys(\"@NaadDantale\")"
   ],
   "metadata": {
    "collapsed": false,
    "ExecuteTime": {
     "start_time": "2023-05-21T06:57:36.274347Z",
     "end_time": "2023-05-21T06:57:37.441622Z"
    }
   }
  },
  {
   "cell_type": "code",
   "execution_count": 47,
   "outputs": [],
   "source": [
    "sleep(1)\n",
    "all_buttons = driver.find_elements(By.XPATH, \"//div[@role='button']\")\n",
    "all_buttons[-2].click()"
   ],
   "metadata": {
    "collapsed": false,
    "ExecuteTime": {
     "start_time": "2023-05-21T06:57:37.442607Z",
     "end_time": "2023-05-21T06:57:38.507075Z"
    }
   }
  },
  {
   "cell_type": "code",
   "execution_count": 48,
   "outputs": [],
   "source": [
    "sleep(1)\n",
    "password = driver.find_element(By.XPATH, \"//input[@type='password']\")\n",
    "password.send_keys(\"naad@dantale123A\")"
   ],
   "metadata": {
    "collapsed": false,
    "ExecuteTime": {
     "start_time": "2023-05-21T06:57:38.508384Z",
     "end_time": "2023-05-21T06:57:39.647166Z"
    }
   }
  },
  {
   "cell_type": "code",
   "execution_count": 49,
   "outputs": [],
   "source": [
    "sleep(1)\n",
    "all_buttons = driver.find_elements(By.XPATH, \"//div[@role='button']\")\n",
    "all_buttons[-1].click()"
   ],
   "metadata": {
    "collapsed": false,
    "ExecuteTime": {
     "start_time": "2023-05-21T06:57:39.651027Z",
     "end_time": "2023-05-21T06:57:40.704175Z"
    }
   }
  },
  {
   "cell_type": "code",
   "execution_count": 71,
   "outputs": [],
   "source": [
    "search = input(\"Enter Search\")\n",
    "if \" \" in search:\n",
    "    search.replace(\" \", '%20')\n",
    "\n",
    "driver.get(\"https://twitter.com/search?q=\" + search + \"&src=typed_query&f=top\")"
   ],
   "metadata": {
    "collapsed": false,
    "ExecuteTime": {
     "start_time": "2023-05-21T07:21:06.287882Z",
     "end_time": "2023-05-21T07:21:09.199118Z"
    }
   }
  },
  {
   "cell_type": "code",
   "execution_count": 73,
   "outputs": [
    {
     "name": "stdout",
     "output_type": "stream",
     "text": [
      "[<selenium.webdriver.remote.webelement.WebElement (session=\"5a453416f9639f1b7884b7632c1457f1\", element=\"F51AABF238FE34EFF132D470FF798132_element_1208\")>, <selenium.webdriver.remote.webelement.WebElement (session=\"5a453416f9639f1b7884b7632c1457f1\", element=\"F51AABF238FE34EFF132D470FF798132_element_1209\")>, <selenium.webdriver.remote.webelement.WebElement (session=\"5a453416f9639f1b7884b7632c1457f1\", element=\"F51AABF238FE34EFF132D470FF798132_element_1210\")>]\n"
     ]
    }
   ],
   "source": [
    "like_buttons = driver.find_elements(By.XPATH, \"//div[@data-testid='like']\")\n",
    "print(like_buttons)\n",
    "\n",
    "for button in like_buttons:\n",
    "    button.click()"
   ],
   "metadata": {
    "collapsed": false,
    "ExecuteTime": {
     "start_time": "2023-05-21T07:21:13.814888Z",
     "end_time": "2023-05-21T07:21:14.031187Z"
    }
   }
  },
  {
   "cell_type": "code",
   "execution_count": 104,
   "outputs": [
    {
     "name": "stdout",
     "output_type": "stream",
     "text": [
      "----------------------------------------------------------------------------------------------------\n",
      "\n",
      "----------------------------------------------------------------------------------------------------\n",
      "\n",
      "----------------------------------------------------------------------------------------------------\n",
      "\n"
     ]
    }
   ],
   "source": [
    "driver.get('https://twitter.com/home')\n",
    "sleep(3)\n",
    "tweets = driver.find_elements(By.XPATH, \"//article[@data-testid='tweet']\")\n",
    "tweetTexts = driver.find_elements(By.XPATH, \"//div[@data-testid='tweetText']\")\n",
    "tweeters = driver.find_elements(By.XPATH, \"//a[@role='link']\")\n",
    "\n",
    "for i in range(len(tweets)-1):\n",
    "    print('-'*100)\n",
    "    # print(tweets[i].text)\n",
    "    print(tweeters[i].text)\n",
    "    # print(tweetTexts[i].text)\n"
   ],
   "metadata": {
    "collapsed": false,
    "ExecuteTime": {
     "start_time": "2023-05-21T07:43:02.204083Z",
     "end_time": "2023-05-21T07:43:05.957871Z"
    }
   }
  },
  {
   "cell_type": "code",
   "execution_count": null,
   "outputs": [],
   "source": [],
   "metadata": {
    "collapsed": false
   }
  }
 ],
 "metadata": {
  "kernelspec": {
   "display_name": "Python 3",
   "language": "python",
   "name": "python3"
  },
  "language_info": {
   "codemirror_mode": {
    "name": "ipython",
    "version": 2
   },
   "file_extension": ".py",
   "mimetype": "text/x-python",
   "name": "python",
   "nbconvert_exporter": "python",
   "pygments_lexer": "ipython2",
   "version": "2.7.6"
  }
 },
 "nbformat": 4,
 "nbformat_minor": 0
}
